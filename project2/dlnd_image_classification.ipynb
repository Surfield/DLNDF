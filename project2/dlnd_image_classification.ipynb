{
 "cells": [
  {
   "cell_type": "markdown",
   "metadata": {
    "collapsed": true,
    "deletable": true,
    "editable": true
   },
   "source": [
    "# Image Classification\n",
    "In this project, you'll classify images from the [CIFAR-10 dataset](https://www.cs.toronto.edu/~kriz/cifar.html).  The dataset consists of airplanes, dogs, cats, and other objects. You'll preprocess the images, then train a convolutional neural network on all the samples. The images need to be normalized and the labels need to be one-hot encoded.  You'll get to apply what you learned and build a convolutional, max pooling, dropout, and fully connected layers.  At the end, you'll get to see your neural network's predictions on the sample images.\n",
    "## Get the Data\n",
    "Run the following cell to download the [CIFAR-10 dataset for python](https://www.cs.toronto.edu/~kriz/cifar-10-python.tar.gz)."
   ]
  },
  {
   "cell_type": "code",
   "execution_count": 3,
   "metadata": {
    "collapsed": false,
    "deletable": true,
    "editable": true
   },
   "outputs": [
    {
     "name": "stdout",
     "output_type": "stream",
     "text": [
      "All files found!\n"
     ]
    }
   ],
   "source": [
    "\"\"\"\n",
    "DON'T MODIFY ANYTHING IN THIS CELL THAT IS BELOW THIS LINE\n",
    "\"\"\"\n",
    "from urllib.request import urlretrieve\n",
    "from os.path import isfile, isdir\n",
    "from tqdm import tqdm\n",
    "import problem_unittests as tests\n",
    "import tarfile\n",
    "\n",
    "cifar10_dataset_folder_path = 'cifar-10-batches-py'\n",
    "\n",
    "class DLProgress(tqdm):\n",
    "    last_block = 0\n",
    "\n",
    "    def hook(self, block_num=1, block_size=1, total_size=None):\n",
    "        self.total = total_size\n",
    "        self.update((block_num - self.last_block) * block_size)\n",
    "        self.last_block = block_num\n",
    "\n",
    "if not isfile('cifar-10-python.tar.gz'):\n",
    "    with DLProgress(unit='B', unit_scale=True, miniters=1, desc='CIFAR-10 Dataset') as pbar:\n",
    "        urlretrieve(\n",
    "            'https://www.cs.toronto.edu/~kriz/cifar-10-python.tar.gz',\n",
    "            'cifar-10-python.tar.gz',\n",
    "            pbar.hook)\n",
    "\n",
    "if not isdir(cifar10_dataset_folder_path):\n",
    "    with tarfile.open('cifar-10-python.tar.gz') as tar:\n",
    "        tar.extractall()\n",
    "        tar.close()\n",
    "\n",
    "\n",
    "tests.test_folder_path(cifar10_dataset_folder_path)"
   ]
  },
  {
   "cell_type": "markdown",
   "metadata": {
    "deletable": true,
    "editable": true
   },
   "source": [
    "## Explore the Data\n",
    "The dataset is broken into batches to prevent your machine from running out of memory.  The CIFAR-10 dataset consists of 5 batches, named `data_batch_1`, `data_batch_2`, etc.. Each batch contains the labels and images that are one of the following:\n",
    "* airplane\n",
    "* automobile\n",
    "* bird\n",
    "* cat\n",
    "* deer\n",
    "* dog\n",
    "* frog\n",
    "* horse\n",
    "* ship\n",
    "* truck\n",
    "\n",
    "Understanding a dataset is part of making predictions on the data.  Play around with the code cell below by changing the `batch_id` and `sample_id`. The `batch_id` is the id for a batch (1-5). The `sample_id` is the id for a image and label pair in the batch.\n",
    "\n",
    "Ask yourself \"What are all possible labels?\", \"What is the range of values for the image data?\", \"Are the labels in order or random?\".  Answers to questions like these will help you preprocess the data and end up with better predictions."
   ]
  },
  {
   "cell_type": "code",
   "execution_count": 4,
   "metadata": {
    "collapsed": false,
    "deletable": true,
    "editable": true
   },
   "outputs": [
    {
     "name": "stdout",
     "output_type": "stream",
     "text": [
      "\n",
      "Stats of batch 2:\n",
      "Samples: 10000\n",
      "Label Counts: {0: 984, 1: 1007, 2: 1010, 3: 995, 4: 1010, 5: 988, 6: 1008, 7: 1026, 8: 987, 9: 985}\n",
      "First 20 Labels: [1, 6, 6, 8, 8, 3, 4, 6, 0, 6, 0, 3, 6, 6, 5, 4, 8, 3, 2, 6]\n",
      "\n",
      "Example of Image 6:\n",
      "Image - Min Value: 0 Max Value: 235\n",
      "Image - Shape: (32, 32, 3)\n",
      "Label - Label Id: 4 Name: deer\n"
     ]
    },
    {
     "data": {
      "image/png": "[encoded data removed]",
      "text/plain": [
       "<matplotlib.figure.Figure at 0x7f68b4ba76d8>"
      ]
     },
     "metadata": {
      "image/png": {
       "height": 250,
       "width": 253
      }
     },
     "output_type": "display_data"
    }
   ],
   "source": [
    "%matplotlib inline\n",
    "%config InlineBackend.figure_format = 'retina'\n",
    "\n",
    "import helper\n",
    "import numpy as np\n",
    "\n",
    "# Explore the dataset\n",
    "batch_id = 2\n",
    "sample_id = 6\n",
    "helper.display_stats(cifar10_dataset_folder_path, batch_id, sample_id)"
   ]
  },
  {
   "cell_type": "markdown",
   "metadata": {
    "deletable": true,
    "editable": true
   },
   "source": [
    "## Implement Preprocess Functions\n",
    "### Normalize\n",
    "In the cell below, implement the `normalize` function to take in image data, `x`, and return it as a normalized Numpy array. The values should be in the range of 0 to 1, inclusive.  The return object should be the same shape as `x`."
   ]
  },
  {
   "cell_type": "code",
   "execution_count": 11,
   "metadata": {
    "collapsed": false,
    "deletable": true,
    "editable": true
   },
   "outputs": [
    {
     "name": "stdout",
     "output_type": "stream",
     "text": [
      "Tests Passed\n"
     ]
    }
   ],
   "source": [
    "def normalize(x):\n",
    "    \"\"\"\n",
    "    Normalize a list of sample image data in the range of 0 to 1\n",
    "    : x: List of image data.  The image shape is (32, 32, 3)\n",
    "    : return: Numpy array of normalize data\n",
    "    \"\"\"\n",
    "    # TODO: Implement Function\n",
    "    return x/255\n",
    "\n",
    "\n",
    "\"\"\"\n",
    "DON'T MODIFY ANYTHING IN THIS CELL THAT IS BELOW THIS LINE\n",
    "\"\"\"\n",
    "tests.test_normalize(normalize)"
   ]
  },
  {
   "cell_type": "markdown",
   "metadata": {
    "deletable": true,
    "editable": true
   },
   "source": [
    "### One-hot encode\n",
    "Just like the previous code cell, you'll be implementing a function for preprocessing.  This time, you'll implement the `one_hot_encode` function. The input, `x`, are a list of labels.  Implement the function to return the list of labels as One-Hot encoded Numpy array.  The possible values for labels are 0 to 9. The one-hot encoding function should return the same encoding for each value between each call to `one_hot_encode`.  Make sure to save the map of encodings outside the function.\n",
    "\n",
    "Hint: Don't reinvent the wheel."
   ]
  },
  {
   "cell_type": "code",
   "execution_count": 14,
   "metadata": {
    "collapsed": false,
    "deletable": true,
    "editable": true
   },
   "outputs": [
    {
     "name": "stdout",
     "output_type": "stream",
     "text": [
      "Tests Passed\n"
     ]
    }
   ],
   "source": [
    "def one_hot_encode(x):\n",
    "    \"\"\"\n",
    "    One hot encode a list of sample labels. Return a one-hot encoded vector for each label.\n",
    "    : x: List of sample Labels\n",
    "    : return: Numpy array of one-hot encoded labels\n",
    "    \"\"\"\n",
    "    # TODO: Implement Function\n",
    "    b = np.zeros((len(x), 10))\n",
    "    b[np.arange(len(x)), x] = 1\n",
    "    return b\n",
    "\n",
    "\n",
    "\"\"\"\n",
    "DON'T MODIFY ANYTHING IN THIS CELL THAT IS BELOW THIS LINE\n",
    "\"\"\"\n",
    "tests.test_one_hot_encode(one_hot_encode)"
   ]
  },
  {
   "cell_type": "markdown",
   "metadata": {
    "deletable": true,
    "editable": true
   },
   "source": [
    "### Randomize Data\n",
    "As you saw from exploring the data above, the order of the samples are randomized.  It doesn't hurt to randomize it again, but you don't need to for this dataset."
   ]
  },
  {
   "cell_type": "markdown",
   "metadata": {
    "deletable": true,
    "editable": true
   },
   "source": [
    "## Preprocess all the data and save it\n",
    "Running the code cell below will preprocess all the CIFAR-10 data and save it to file. The code below also uses 10% of the training data for validation."
   ]
  },
  {
   "cell_type": "code",
   "execution_count": 15,
   "metadata": {
    "collapsed": false,
    "deletable": true,
    "editable": true
   },
   "outputs": [],
   "source": [
    "\"\"\"\n",
    "DON'T MODIFY ANYTHING IN THIS CELL\n",
    "\"\"\"\n",
    "# Preprocess Training, Validation, and Testing Data\n",
    "helper.preprocess_and_save_data(cifar10_dataset_folder_path, normalize, one_hot_encode)"
   ]
  },
  {
   "cell_type": "markdown",
   "metadata": {
    "deletable": true,
    "editable": true
   },
   "source": [
    "# Check Point\n",
    "This is your first checkpoint.  If you ever decide to come back to this notebook or have to restart the notebook, you can start from here.  The preprocessed data has been saved to disk."
   ]
  },
  {
   "cell_type": "code",
   "execution_count": 16,
   "metadata": {
    "collapsed": true,
    "deletable": true,
    "editable": true
   },
   "outputs": [],
   "source": [
    "\"\"\"\n",
    "DON'T MODIFY ANYTHING IN THIS CELL\n",
    "\"\"\"\n",
    "import pickle\n",
    "import problem_unittests as tests\n",
    "import helper\n",
    "\n",
    "# Load the Preprocessed Validation data\n",
    "valid_features, valid_labels = pickle.load(open('preprocess_validation.p', mode='rb'))"
   ]
  },
  {
   "cell_type": "markdown",
   "metadata": {
    "deletable": true,
    "editable": true
   },
   "source": [
    "## Build the network\n",
    "For the neural network, you'll build each layer into a function.  Most of the code you've seen has been outside of functions. To test your code more thoroughly, we require that you put each layer in a function.  This allows us to give you better feedback and test for simple mistakes using our unittests before you submit your project.\n",
    "\n",
    "If you're finding it hard to dedicate enough time for this course a week, we've provided a small shortcut to this part of the project. In the next couple of problems, you'll have the option to use [TensorFlow Layers](https://www.tensorflow.org/api_docs/python/tf/layers) or [TensorFlow Layers (contrib)](https://www.tensorflow.org/api_guides/python/contrib.layers) to build each layer, except \"Convolutional & Max Pooling\" layer.  TF Layers is similar to Keras's and TFLearn's abstraction to layers, so it's easy to pickup.\n",
    "\n",
    "If you would like to get the most of this course, try to solve all the problems without TF Layers.  Let's begin!\n",
    "### Input\n",
    "The neural network needs to read the image data, one-hot encoded labels, and dropout keep probability. Implement the following functions\n",
    "* Implement `neural_net_image_input`\n",
    " * Return a [TF Placeholder](https://www.tensorflow.org/api_docs/python/tf/placeholder)\n",
    " * Set the shape using `image_shape` with batch size set to `None`.\n",
    " * Name the TensorFlow placeholder \"x\" using the TensorFlow `name` parameter in the [TF Placeholder](https://www.tensorflow.org/api_docs/python/tf/placeholder).\n",
    "* Implement `neural_net_label_input`\n",
    " * Return a [TF Placeholder](https://www.tensorflow.org/api_docs/python/tf/placeholder)\n",
    " * Set the shape using `n_classes` with batch size set to `None`.\n",
    " * Name the TensorFlow placeholder \"y\" using the TensorFlow `name` parameter in the [TF Placeholder](https://www.tensorflow.org/api_docs/python/tf/placeholder).\n",
    "* Implement `neural_net_keep_prob_input`\n",
    " * Return a [TF Placeholder](https://www.tensorflow.org/api_docs/python/tf/placeholder) for dropout keep probability.\n",
    " * Name the TensorFlow placeholder \"keep_prob\" using the TensorFlow `name` parameter in the [TF Placeholder](https://www.tensorflow.org/api_docs/python/tf/placeholder).\n",
    "\n",
    "These names will be used at the end of the project to load your saved model.\n",
    "\n",
    "Note: `None` for shapes in TensorFlow allow for a dynamic size."
   ]
  },
  {
   "cell_type": "code",
   "execution_count": 19,
   "metadata": {
    "collapsed": false,
    "deletable": true,
    "editable": true
   },
   "outputs": [
    {
     "name": "stdout",
     "output_type": "stream",
     "text": [
      "(32, 32, 3)\n",
      "Image Input Tests Passed.\n",
      "Label Input Tests Passed.\n",
      "Keep Prob Tests Passed.\n"
     ]
    }
   ],
   "source": [
    "import tensorflow as tf\n",
    "\n",
    "def neural_net_image_input(image_shape):\n",
    "    \"\"\"\n",
    "    Return a Tensor for a bach of image input\n",
    "    : image_shape: Shape of the images\n",
    "    : return: Tensor for image input.\n",
    "    \"\"\"\n",
    "    # TODO: Implement Function\n",
    "    print(image_shape)\n",
    "    return tf.placeholder(tf.float32, shape=[None, image_shape[0],image_shape[1],image_shape[2]], name=\"x\")\n",
    "\n",
    "\n",
    "def neural_net_label_input(n_classes):\n",
    "    \"\"\"\n",
    "    Return a Tensor for a batch of label input\n",
    "    : n_classes: Number of classes\n",
    "    : return: Tensor for label input.\n",
    "    \"\"\"\n",
    "    # TODO: Implement Function\n",
    "    return tf.placeholder(tf.float32, shape=[None, n_classes], name=\"y\")\n",
    "\n",
    "\n",
    "def neural_net_keep_prob_input():\n",
    "    \"\"\"\n",
    "    Return a Tensor for keep probability\n",
    "    : return: Tensor for keep probability.\n",
    "    \"\"\"\n",
    "    # TODO: Implement Function\n",
    "    return tf.placeholder(tf.float32, name=\"keep_prob\")\n",
    "\n",
    "\n",
    "\"\"\"\n",
    "DON'T MODIFY ANYTHING IN THIS CELL THAT IS BELOW THIS LINE\n",
    "\"\"\"\n",
    "tf.reset_default_graph()\n",
    "tests.test_nn_image_inputs(neural_net_image_input)\n",
    "tests.test_nn_label_inputs(neural_net_label_input)\n",
    "tests.test_nn_keep_prob_inputs(neural_net_keep_prob_input)"
   ]
  },
  {
   "cell_type": "markdown",
   "metadata": {
    "deletable": true,
    "editable": true
   },
   "source": [
    "### Convolution and Max Pooling Layer\n",
    "Convolution layers have a lot of success with images. For this code cell, you should implement the function `conv2d_maxpool` to apply convolution then max pooling:\n",
    "* Create the weight and bias using `conv_ksize`, `conv_num_outputs` and the shape of `x_tensor`.\n",
    "* Apply a convolution to `x_tensor` using weight and `conv_strides`.\n",
    " * We recommend you use same padding, but you're welcome to use any padding.\n",
    "* Add bias\n",
    "* Add a nonlinear activation to the convolution.\n",
    "* Apply Max Pooling using `pool_ksize` and `pool_strides`.\n",
    " * We recommend you use same padding, but you're welcome to use any padding.\n",
    "\n",
    "Note: You **can't** use [TensorFlow Layers](https://www.tensorflow.org/api_docs/python/tf/layers) or [TensorFlow Layers (contrib)](https://www.tensorflow.org/api_guides/python/contrib.layers) for this layer.  You're free to use any TensorFlow package for all the other layers."
   ]
  },
  {
   "cell_type": "code",
   "execution_count": 21,
   "metadata": {
    "collapsed": false,
    "deletable": true,
    "editable": true
   },
   "outputs": [
    {
     "name": "stdout",
     "output_type": "stream",
     "text": [
      "Tests Passed\n"
     ]
    }
   ],
   "source": [
    "def conv2d_maxpool(x_tensor, conv_num_outputs, conv_ksize, conv_strides, pool_ksize, pool_strides):\n",
    "    \"\"\"\n",
    "    Apply convolution then max pooling to x_tensor\n",
    "    :param x_tensor: TensorFlow Tensor\n",
    "    :param conv_num_outputs: Number of outputs for the convolutional layer\n",
    "    :param conv_strides: Stride 2-D Tuple for convolution\n",
    "    :param pool_ksize: kernal size 2-D Tuple for pool\n",
    "    :param pool_strides: Stride 2-D Tuple for pool\n",
    "    : return: A tensor that represents convolution and max pooling of x_tensor\n",
    "    \"\"\"\n",
    "    \n",
    "    # TODO: Implement Function\n",
    "    weights = tf.Variable(tf.random_normal([conv_ksize[0],conv_ksize[1],x_tensor.shape.as_list()[-1],conv_num_outputs],stddev=0.05))\n",
    "    bias = tf.Variable(tf.constant(0.05, shape=[conv_num_outputs]))\n",
    "    x = tf.nn.conv2d(input=x_tensor,filter=weights,strides=[1,conv_strides[0],conv_strides[1],1],padding='SAME')\n",
    "    x = tf.nn.bias_add(x,bias)\n",
    "    x = tf.nn.relu(x)\n",
    "    return tf.nn.max_pool(x,ksize=[1,pool_ksize[0],pool_ksize[1],1],strides=[1,pool_strides[0],pool_strides[1],1],padding='SAME')\n",
    "\n",
    "\n",
    "\n",
    "\n",
    "\n",
    "\"\"\"\n",
    "DON'T MODIFY ANYTHING IN THIS CELL THAT IS BELOW THIS LINE\n",
    "\"\"\"\n",
    "tests.test_con_pool(conv2d_maxpool)"
   ]
  },
  {
   "cell_type": "markdown",
   "metadata": {
    "deletable": true,
    "editable": true
   },
   "source": [
    "### Flatten Layer\n",
    "Implement the `flatten` function to change the dimension of `x_tensor` from a 4-D tensor to a 2-D tensor.  The output should be the shape (*Batch Size*, *Flattened Image Size*). You can use [TensorFlow Layers](https://www.tensorflow.org/api_docs/python/tf/layers) or [TensorFlow Layers (contrib)](https://www.tensorflow.org/api_guides/python/contrib.layers) for this layer."
   ]
  },
  {
   "cell_type": "code",
   "execution_count": 24,
   "metadata": {
    "collapsed": false,
    "deletable": true,
    "editable": true
   },
   "outputs": [
    {
     "name": "stdout",
     "output_type": "stream",
     "text": [
      "Tests Passed\n"
     ]
    }
   ],
   "source": [
    "def flatten(x_tensor):\n",
    "    \"\"\"\n",
    "    Flatten x_tensor to (Batch Size, Flattened Image Size)\n",
    "    : x_tensor: A tensor of size (Batch Size, ...), where ... are the image dimensions.\n",
    "    : return: A tensor of size (Batch Size, Flattened Image Size).\n",
    "    \"\"\"\n",
    "    # TODO: Implement Function\n",
    "    return tf.contrib.layers.flatten(x_tensor)\n",
    "\n",
    "\n",
    "\"\"\"\n",
    "DON'T MODIFY ANYTHING IN THIS CELL THAT IS BELOW THIS LINE\n",
    "\"\"\"\n",
    "tests.test_flatten(flatten)"
   ]
  },
  {
   "cell_type": "markdown",
   "metadata": {
    "deletable": true,
    "editable": true
   },
   "source": [
    "### Fully-Connected Layer\n",
    "Implement the `fully_conn` function to apply a fully connected layer to `x_tensor` with the shape (*Batch Size*, *num_outputs*). You can use [TensorFlow Layers](https://www.tensorflow.org/api_docs/python/tf/layers) or [TensorFlow Layers (contrib)](https://www.tensorflow.org/api_guides/python/contrib.layers) for this layer."
   ]
  },
  {
   "cell_type": "code",
   "execution_count": 27,
   "metadata": {
    "collapsed": false,
    "deletable": true,
    "editable": true
   },
   "outputs": [
    {
     "name": "stdout",
     "output_type": "stream",
     "text": [
      "Tests Passed\n"
     ]
    }
   ],
   "source": [
    "def fully_conn(x_tensor, num_outputs):\n",
    "    \"\"\"\n",
    "    Apply a fully connected layer to x_tensor using weight and bias\n",
    "    : x_tensor: A 2-D tensor where the first dimension is batch size.\n",
    "    : num_outputs: The number of output that the new tensor should be.\n",
    "    : return: A 2-D tensor where the second dimension is num_outputs.\n",
    "    \"\"\"\n",
    "    # TODO: Implement Function\n",
    "    return tf.contrib.layers.fully_connected(x_tensor, num_outputs,tf.nn.relu)\n",
    "\n",
    "\n",
    "\"\"\"\n",
    "DON'T MODIFY ANYTHING IN THIS CELL THAT IS BELOW THIS LINE\n",
    "\"\"\"\n",
    "tests.test_fully_conn(fully_conn)"
   ]
  },
  {
   "cell_type": "markdown",
   "metadata": {
    "deletable": true,
    "editable": true
   },
   "source": [
    "### Output Layer\n",
    "Implement the `output` function to apply a fully connected layer to `x_tensor` with the shape (*Batch Size*, *num_outputs*). You can use [TensorFlow Layers](https://www.tensorflow.org/api_docs/python/tf/layers) or [TensorFlow Layers (contrib)](https://www.tensorflow.org/api_guides/python/contrib.layers) for this layer.\n",
    "\n",
    "Note: Activation, softmax, or cross entropy shouldn't be applied to this."
   ]
  },
  {
   "cell_type": "code",
   "execution_count": 28,
   "metadata": {
    "collapsed": false,
    "deletable": true,
    "editable": true
   },
   "outputs": [
    {
     "name": "stdout",
     "output_type": "stream",
     "text": [
      "Tests Passed\n"
     ]
    }
   ],
   "source": [
    "def output(x_tensor, num_outputs):\n",
    "    \"\"\"\n",
    "    Apply a output layer to x_tensor using weight and bias\n",
    "    : x_tensor: A 2-D tensor where the first dimension is batch size.\n",
    "    : num_outputs: The number of output that the new tensor should be.\n",
    "    : return: A 2-D tensor where the second dimension is num_outputs.\n",
    "    \"\"\"\n",
    "    # TODO: Implement Function\n",
    "    return tf.contrib.layers.fully_connected(x_tensor, num_outputs,tf.nn.softmax)\n",
    "\n",
    "\n",
    "\"\"\"\n",
    "DON'T MODIFY ANYTHING IN THIS CELL THAT IS BELOW THIS LINE\n",
    "\"\"\"\n",
    "tests.test_output(output)"
   ]
  },
  {
   "cell_type": "markdown",
   "metadata": {
    "deletable": true,
    "editable": true
   },
   "source": [
    "### Create Convolutional Model\n",
    "Implement the function `conv_net` to create a convolutional neural network model. The function takes in a batch of images, `x`, and outputs logits.  Use the layers you created above to create this model:\n",
    "\n",
    "* Apply 1, 2, or 3 Convolution and Max Pool layers\n",
    "* Apply a Flatten Layer\n",
    "* Apply 1, 2, or 3 Fully Connected Layers\n",
    "* Apply an Output Layer\n",
    "* Return the output\n",
    "* Apply [TensorFlow's Dropout](https://www.tensorflow.org/api_docs/python/tf/nn/dropout) to one or more layers in the model using `keep_prob`. "
   ]
  },
  {
   "cell_type": "code",
   "execution_count": 29,
   "metadata": {
    "collapsed": false,
    "deletable": true,
    "editable": true
   },
   "outputs": [
    {
     "name": "stdout",
     "output_type": "stream",
     "text": [
      "(32, 32, 3)\n",
      "Neural Network Built!\n"
     ]
    }
   ],
   "source": [
    "def conv_net(x, keep_prob):\n",
    "    \"\"\"\n",
    "    Create a convolutional neural network model\n",
    "    : x: Placeholder tensor that holds image data.\n",
    "    : keep_prob: Placeholder tensor that hold dropout keep probability.\n",
    "    : return: Tensor that represents logits\n",
    "    \"\"\"\n",
    "    # TODO: Apply 1, 2, or 3 Convolution and Max Pool layers\n",
    "    #    Play around with different number of outputs, kernel size and stride\n",
    "    # Function Definition from Above:\n",
    "    #    conv2d_maxpool(x_tensor, conv_num_outputs, conv_ksize, conv_strides, pool_ksize, pool_strides)\n",
    "    conv_num_outputs = 10\n",
    "    conv_ksize = (5, 5)\n",
    "    conv_strides = (2, 2)\n",
    "    pool_ksize = (3, 3)\n",
    "    pool_strides = (2, 2)\n",
    "    layer1 = conv2d_maxpool(x, conv_num_outputs, conv_ksize, conv_strides, pool_ksize, pool_strides)\n",
    "    layer2 = conv2d_maxpool(layer1, conv_num_outputs, conv_ksize, conv_strides, pool_ksize, pool_strides)\n",
    "    layer3 = conv2d_maxpool(layer2, conv_num_outputs, conv_ksize, conv_strides, pool_ksize, pool_strides)\n",
    "    \n",
    "\n",
    "    # TODO: Apply a Flatten Layer\n",
    "    # Function Definition from Above:\n",
    "    #   flatten(x_tensor)\n",
    "    flat = flatten(layer3)\n",
    "    \n",
    "\n",
    "    # TODO: Apply 1, 2, or 3 Fully Connected Layers\n",
    "    #    Play around with different number of outputs\n",
    "    # Function Definition from Above:\n",
    "    #   fully_conn(x_tensor, num_outputs)\n",
    "    full1 = fully_conn(flat, conv_num_outputs)\n",
    "    full2 = fully_conn(full1, conv_num_outputs)\n",
    "    full3 = fully_conn(full2, conv_num_outputs)\n",
    "    \n",
    "    # TODO: Apply an Output Layer\n",
    "    #    Set this to the number of classes\n",
    "    # Function Definition from Above:\n",
    "    #   output(x_tensor, num_outputs)\n",
    "    \n",
    "    # TODO: return output\n",
    "    return output(full3, conv_num_outputs)\n",
    "\n",
    "\n",
    "\"\"\"\n",
    "DON'T MODIFY ANYTHING IN THIS CELL THAT IS BELOW THIS LINE\n",
    "\"\"\"\n",
    "\n",
    "##############################\n",
    "## Build the Neural Network ##\n",
    "##############################\n",
    "\n",
    "# Remove previous weights, bias, inputs, etc..\n",
    "tf.reset_default_graph()\n",
    "\n",
    "# Inputs\n",
    "x = neural_net_image_input((32, 32, 3))\n",
    "y = neural_net_label_input(10)\n",
    "keep_prob = neural_net_keep_prob_input()\n",
    "\n",
    "# Model\n",
    "logits = conv_net(x, keep_prob)\n",
    "\n",
    "# Name logits Tensor, so that is can be loaded from disk after training\n",
    "logits = tf.identity(logits, name='logits')\n",
    "\n",
    "# Loss and Optimizer\n",
    "cost = tf.reduce_mean(tf.nn.softmax_cross_entropy_with_logits(logits=logits, labels=y))\n",
    "optimizer = tf.train.AdamOptimizer().minimize(cost)\n",
    "\n",
    "# Accuracy\n",
    "correct_pred = tf.equal(tf.argmax(logits, 1), tf.argmax(y, 1))\n",
    "accuracy = tf.reduce_mean(tf.cast(correct_pred, tf.float32), name='accuracy')\n",
    "\n",
    "tests.test_conv_net(conv_net)"
   ]
  },
  {
   "cell_type": "markdown",
   "metadata": {
    "deletable": true,
    "editable": true
   },
   "source": [
    "## Train the Neural Network\n",
    "### Single Optimization\n",
    "Implement the function `train_neural_network` to do a single optimization.  The optimization should use `optimizer` to optimize in `session` with a `feed_dict` of the following:\n",
    "* `x` for image input\n",
    "* `y` for labels\n",
    "* `keep_prob` for keep probability for dropout\n",
    "\n",
    "This function will be called for each batch, so `tf.global_variables_initializer()` has already been called.\n",
    "\n",
    "Note: Nothing needs to be returned. This function is only optimizing the neural network."
   ]
  },
  {
   "cell_type": "code",
   "execution_count": 30,
   "metadata": {
    "collapsed": false,
    "deletable": true,
    "editable": true
   },
   "outputs": [
    {
     "name": "stdout",
     "output_type": "stream",
     "text": [
      "Tests Passed\n"
     ]
    }
   ],
   "source": [
    "def train_neural_network(session, optimizer, keep_probability, feature_batch, label_batch):\n",
    "    \"\"\"\n",
    "    Optimize the session on a batch of images and labels\n",
    "    : session: Current TensorFlow session\n",
    "    : optimizer: TensorFlow optimizer function\n",
    "    : keep_probability: keep probability\n",
    "    : feature_batch: Batch of Numpy image data\n",
    "    : label_batch: Batch of Numpy label data\n",
    "    \"\"\"\n",
    "    # TODO: Implement Function\n",
    "    session.run(optimizer, feed_dict={x: feature_batch,y: label_batch,keep_prob: keep_probability})\n",
    "\n",
    "\n",
    "\"\"\"\n",
    "DON'T MODIFY ANYTHING IN THIS CELL THAT IS BELOW THIS LINE\n",
    "\"\"\"\n",
    "tests.test_train_nn(train_neural_network)"
   ]
  },
  {
   "cell_type": "markdown",
   "metadata": {
    "deletable": true,
    "editable": true
   },
   "source": [
    "### Show Stats\n",
    "Implement the function `print_stats` to print loss and validation accuracy.  Use the global variables `valid_features` and `valid_labels` to calculate validation accuracy.  Use a keep probability of `1.0` to calculate the loss and validation accuracy."
   ]
  },
  {
   "cell_type": "code",
   "execution_count": 31,
   "metadata": {
    "collapsed": false,
    "deletable": true,
    "editable": true
   },
   "outputs": [],
   "source": [
    "def print_stats(session, feature_batch, label_batch, cost, accuracy):\n",
    "    \"\"\"\n",
    "    Print information about loss and validation accuracy\n",
    "    : session: Current TensorFlow session\n",
    "    : feature_batch: Batch of Numpy image data\n",
    "    : label_batch: Batch of Numpy label data\n",
    "    : cost: TensorFlow cost function\n",
    "    : accuracy: TensorFlow accuracy function\n",
    "    \"\"\"\n",
    "    # TODO: Implement Function\n",
    "    loss = session.run(cost,feed_dict={x: feature_batch,y: label_batch,keep_prob: 1.0})\n",
    "    acc = session.run(accuracy,feed_dict={x: feature_batch,y: label_batch,keep_prob: 1.0})\n",
    "    print(loss, acc)"
   ]
  },
  {
   "cell_type": "markdown",
   "metadata": {
    "deletable": true,
    "editable": true
   },
   "source": [
    "### Hyperparameters\n",
    "Tune the following parameters:\n",
    "* Set `epochs` to the number of iterations until the network stops learning or start overfitting\n",
    "* Set `batch_size` to the highest number that your machine has memory for.  Most people set them to common sizes of memory:\n",
    " * 64\n",
    " * 128\n",
    " * 256\n",
    " * ...\n",
    "* Set `keep_probability` to the probability of keeping a node using dropout"
   ]
  },
  {
   "cell_type": "code",
   "execution_count": 32,
   "metadata": {
    "collapsed": true,
    "deletable": true,
    "editable": true
   },
   "outputs": [],
   "source": [
    "# TODO: Tune Parameters\n",
    "epochs = 70\n",
    "batch_size = 256\n",
    "keep_probability = 0.50"
   ]
  },
  {
   "cell_type": "markdown",
   "metadata": {
    "deletable": true,
    "editable": true
   },
   "source": [
    "### Train on a Single CIFAR-10 Batch\n",
    "Instead of training the neural network on all the CIFAR-10 batches of data, let's use a single batch. This should save time while you iterate on the model to get a better accuracy.  Once the final validation accuracy is 50% or greater, run the model on all the data in the next section."
   ]
  },
  {
   "cell_type": "code",
   "execution_count": 33,
   "metadata": {
    "collapsed": false,
    "deletable": true,
    "editable": true
   },
   "outputs": [
    {
     "name": "stdout",
     "output_type": "stream",
     "text": [
      "Checking the Training on a Single Batch...\n",
      "Epoch  1, CIFAR-10 Batch 1:  2.30191 0.1\n",
      "Epoch  2, CIFAR-10 Batch 1:  2.30021 0.1\n",
      "Epoch  3, CIFAR-10 Batch 1:  2.29062 0.125\n",
      "Epoch  4, CIFAR-10 Batch 1:  2.26808 0.175\n",
      "Epoch  5, CIFAR-10 Batch 1:  2.25155 0.175\n",
      "Epoch  6, CIFAR-10 Batch 1:  2.23479 0.2\n",
      "Epoch  7, CIFAR-10 Batch 1:  2.21499 0.2\n",
      "Epoch  8, CIFAR-10 Batch 1:  2.21203 0.2\n",
      "Epoch  9, CIFAR-10 Batch 1:  2.20329 0.225\n",
      "Epoch 10, CIFAR-10 Batch 1:  2.19646 0.275\n",
      "Epoch 11, CIFAR-10 Batch 1:  2.19078 0.3\n",
      "Epoch 12, CIFAR-10 Batch 1:  2.18813 0.3\n",
      "Epoch 13, CIFAR-10 Batch 1:  2.18175 0.3\n",
      "Epoch 14, CIFAR-10 Batch 1:  2.18049 0.3\n",
      "Epoch 15, CIFAR-10 Batch 1:  2.17713 0.3\n",
      "Epoch 16, CIFAR-10 Batch 1:  2.172 0.3\n",
      "Epoch 17, CIFAR-10 Batch 1:  2.16989 0.3\n",
      "Epoch 18, CIFAR-10 Batch 1:  2.16423 0.3\n",
      "Epoch 19, CIFAR-10 Batch 1:  2.1753 0.275\n",
      "Epoch 20, CIFAR-10 Batch 1:  2.17538 0.25\n",
      "Epoch 21, CIFAR-10 Batch 1:  2.16278 0.275\n",
      "Epoch 22, CIFAR-10 Batch 1:  2.15316 0.275\n",
      "Epoch 23, CIFAR-10 Batch 1:  2.14405 0.3\n",
      "Epoch 24, CIFAR-10 Batch 1:  2.14449 0.3\n",
      "Epoch 25, CIFAR-10 Batch 1:  2.14855 0.3\n",
      "Epoch 26, CIFAR-10 Batch 1:  2.14778 0.3\n",
      "Epoch 27, CIFAR-10 Batch 1:  2.13428 0.3\n",
      "Epoch 28, CIFAR-10 Batch 1:  2.15492 0.275\n",
      "Epoch 29, CIFAR-10 Batch 1:  2.1347 0.325\n",
      "Epoch 30, CIFAR-10 Batch 1:  2.14041 0.325\n",
      "Epoch 31, CIFAR-10 Batch 1:  2.13099 0.325\n",
      "Epoch 32, CIFAR-10 Batch 1:  2.12654 0.325\n",
      "Epoch 33, CIFAR-10 Batch 1:  2.11955 0.375\n",
      "Epoch 34, CIFAR-10 Batch 1:  2.11552 0.35\n",
      "Epoch 35, CIFAR-10 Batch 1:  2.11266 0.35\n",
      "Epoch 36, CIFAR-10 Batch 1:  2.1096 0.35\n",
      "Epoch 37, CIFAR-10 Batch 1:  2.1085 0.325\n",
      "Epoch 38, CIFAR-10 Batch 1:  2.10399 0.35\n",
      "Epoch 39, CIFAR-10 Batch 1:  2.10061 0.35\n",
      "Epoch 40, CIFAR-10 Batch 1:  2.09838 0.35\n",
      "Epoch 41, CIFAR-10 Batch 1:  2.09401 0.35\n",
      "Epoch 42, CIFAR-10 Batch 1:  2.09258 0.35\n",
      "Epoch 43, CIFAR-10 Batch 1:  2.08713 0.375\n",
      "Epoch 44, CIFAR-10 Batch 1:  2.08381 0.4\n",
      "Epoch 45, CIFAR-10 Batch 1:  2.07644 0.375\n",
      "Epoch 46, CIFAR-10 Batch 1:  2.08387 0.35\n",
      "Epoch 47, CIFAR-10 Batch 1:  2.07435 0.35\n",
      "Epoch 48, CIFAR-10 Batch 1:  2.0584 0.4\n",
      "Epoch 49, CIFAR-10 Batch 1:  2.05342 0.4\n",
      "Epoch 50, CIFAR-10 Batch 1:  2.04046 0.45\n",
      "Epoch 51, CIFAR-10 Batch 1:  2.03005 0.425\n",
      "Epoch 52, CIFAR-10 Batch 1:  2.02571 0.475\n",
      "Epoch 53, CIFAR-10 Batch 1:  2.02011 0.45\n",
      "Epoch 54, CIFAR-10 Batch 1:  2.01656 0.45\n",
      "Epoch 55, CIFAR-10 Batch 1:  2.02023 0.45\n",
      "Epoch 56, CIFAR-10 Batch 1:  2.0077 0.475\n",
      "Epoch 57, CIFAR-10 Batch 1:  2.00719 0.5\n",
      "Epoch 58, CIFAR-10 Batch 1:  1.99541 0.475\n",
      "Epoch 59, CIFAR-10 Batch 1:  1.98196 0.5\n",
      "Epoch 60, CIFAR-10 Batch 1:  1.98549 0.5\n",
      "Epoch 61, CIFAR-10 Batch 1:  1.98249 0.55\n",
      "Epoch 62, CIFAR-10 Batch 1:  1.96889 0.55\n",
      "Epoch 63, CIFAR-10 Batch 1:  1.96821 0.525\n",
      "Epoch 64, CIFAR-10 Batch 1:  1.96502 0.525\n",
      "Epoch 65, CIFAR-10 Batch 1:  1.96589 0.525\n",
      "Epoch 66, CIFAR-10 Batch 1:  1.96134 0.55\n",
      "Epoch 67, CIFAR-10 Batch 1:  1.96639 0.55\n",
      "Epoch 68, CIFAR-10 Batch 1:  1.95658 0.55\n",
      "Epoch 69, CIFAR-10 Batch 1:  1.94849 0.55\n",
      "Epoch 70, CIFAR-10 Batch 1:  1.94383 0.55\n"
     ]
    }
   ],
   "source": [
    "\"\"\"\n",
    "DON'T MODIFY ANYTHING IN THIS CELL\n",
    "\"\"\"\n",
    "print('Checking the Training on a Single Batch...')\n",
    "with tf.Session() as sess:\n",
    "    # Initializing the variables\n",
    "    sess.run(tf.global_variables_initializer())\n",
    "    \n",
    "    # Training cycle\n",
    "    for epoch in range(epochs):\n",
    "        batch_i = 1\n",
    "        for batch_features, batch_labels in helper.load_preprocess_training_batch(batch_i, batch_size):\n",
    "            train_neural_network(sess, optimizer, keep_probability, batch_features, batch_labels)\n",
    "        print('Epoch {:>2}, CIFAR-10 Batch {}:  '.format(epoch + 1, batch_i), end='')\n",
    "        print_stats(sess, batch_features, batch_labels, cost, accuracy)"
   ]
  },
  {
   "cell_type": "markdown",
   "metadata": {
    "deletable": true,
    "editable": true
   },
   "source": [
    "### Fully Train the Model\n",
    "Now that you got a good accuracy with a single CIFAR-10 batch, try it with all five batches."
   ]
  },
  {
   "cell_type": "code",
   "execution_count": 34,
   "metadata": {
    "collapsed": false,
    "deletable": true,
    "editable": true
   },
   "outputs": [
    {
     "name": "stdout",
     "output_type": "stream",
     "text": [
      "Training...\n",
      "Epoch  1, CIFAR-10 Batch 1:  2.2996 0.1\n",
      "Epoch  1, CIFAR-10 Batch 2:  2.29206 0.2\n",
      "Epoch  1, CIFAR-10 Batch 3:  2.25746 0.175\n",
      "Epoch  1, CIFAR-10 Batch 4:  2.28706 0.125\n",
      "Epoch  1, CIFAR-10 Batch 5:  2.24222 0.175\n",
      "Epoch  2, CIFAR-10 Batch 1:  2.24066 0.175\n",
      "Epoch  2, CIFAR-10 Batch 2:  2.21318 0.2\n",
      "Epoch  2, CIFAR-10 Batch 3:  2.16644 0.3\n",
      "Epoch  2, CIFAR-10 Batch 4:  2.23915 0.175\n",
      "Epoch  2, CIFAR-10 Batch 5:  2.19473 0.225\n",
      "Epoch  3, CIFAR-10 Batch 1:  2.22905 0.175\n",
      "Epoch  3, CIFAR-10 Batch 2:  2.23791 0.2\n",
      "Epoch  3, CIFAR-10 Batch 3:  2.12657 0.325\n",
      "Epoch  3, CIFAR-10 Batch 4:  2.17272 0.3\n",
      "Epoch  3, CIFAR-10 Batch 5:  2.13862 0.35\n",
      "Epoch  4, CIFAR-10 Batch 1:  2.22931 0.25\n",
      "Epoch  4, CIFAR-10 Batch 2:  2.19842 0.275\n",
      "Epoch  4, CIFAR-10 Batch 3:  2.1089 0.325\n",
      "Epoch  4, CIFAR-10 Batch 4:  2.14198 0.3\n",
      "Epoch  4, CIFAR-10 Batch 5:  2.07006 0.425\n",
      "Epoch  5, CIFAR-10 Batch 1:  2.19633 0.25\n",
      "Epoch  5, CIFAR-10 Batch 2:  2.18141 0.25\n",
      "Epoch  5, CIFAR-10 Batch 3:  2.09104 0.375\n",
      "Epoch  5, CIFAR-10 Batch 4:  2.13887 0.3\n",
      "Epoch  5, CIFAR-10 Batch 5:  2.04208 0.475\n",
      "Epoch  6, CIFAR-10 Batch 1:  2.171 0.35\n",
      "Epoch  6, CIFAR-10 Batch 2:  2.16871 0.275\n",
      "Epoch  6, CIFAR-10 Batch 3:  2.08943 0.35\n",
      "Epoch  6, CIFAR-10 Batch 4:  2.12043 0.375\n",
      "Epoch  6, CIFAR-10 Batch 5:  2.03618 0.425\n",
      "Epoch  7, CIFAR-10 Batch 1:  2.17372 0.35\n",
      "Epoch  7, CIFAR-10 Batch 2:  2.14377 0.3\n",
      "Epoch  7, CIFAR-10 Batch 3:  2.07834 0.425\n",
      "Epoch  7, CIFAR-10 Batch 4:  2.08771 0.375\n",
      "Epoch  7, CIFAR-10 Batch 5:  1.99886 0.575\n",
      "Epoch  8, CIFAR-10 Batch 1:  2.16845 0.325\n",
      "Epoch  8, CIFAR-10 Batch 2:  2.11395 0.375\n",
      "Epoch  8, CIFAR-10 Batch 3:  2.05239 0.425\n",
      "Epoch  8, CIFAR-10 Batch 4:  2.05586 0.425\n",
      "Epoch  8, CIFAR-10 Batch 5:  1.98224 0.525\n",
      "Epoch  9, CIFAR-10 Batch 1:  2.13502 0.325\n",
      "Epoch  9, CIFAR-10 Batch 2:  2.07499 0.4\n",
      "Epoch  9, CIFAR-10 Batch 3:  2.02564 0.5\n",
      "Epoch  9, CIFAR-10 Batch 4:  2.05878 0.4\n",
      "Epoch  9, CIFAR-10 Batch 5:  1.98723 0.475\n",
      "Epoch 10, CIFAR-10 Batch 1:  2.13103 0.35\n",
      "Epoch 10, CIFAR-10 Batch 2:  2.05174 0.425\n",
      "Epoch 10, CIFAR-10 Batch 3:  2.02162 0.45\n",
      "Epoch 10, CIFAR-10 Batch 4:  2.03133 0.425\n",
      "Epoch 10, CIFAR-10 Batch 5:  2.01675 0.475\n",
      "Epoch 11, CIFAR-10 Batch 1:  2.10708 0.375\n",
      "Epoch 11, CIFAR-10 Batch 2:  2.05905 0.425\n",
      "Epoch 11, CIFAR-10 Batch 3:  1.98657 0.5\n",
      "Epoch 11, CIFAR-10 Batch 4:  2.03425 0.4\n",
      "Epoch 11, CIFAR-10 Batch 5:  1.98092 0.525\n",
      "Epoch 12, CIFAR-10 Batch 1:  2.10338 0.35\n",
      "Epoch 12, CIFAR-10 Batch 2:  2.014 0.425\n",
      "Epoch 12, CIFAR-10 Batch 3:  1.99864 0.45\n",
      "Epoch 12, CIFAR-10 Batch 4:  2.03401 0.425\n",
      "Epoch 12, CIFAR-10 Batch 5:  1.98322 0.5\n",
      "Epoch 13, CIFAR-10 Batch 1:  2.05181 0.425\n",
      "Epoch 13, CIFAR-10 Batch 2:  1.97581 0.45\n",
      "Epoch 13, CIFAR-10 Batch 3:  1.98646 0.475\n",
      "Epoch 13, CIFAR-10 Batch 4:  2.02308 0.45\n",
      "Epoch 13, CIFAR-10 Batch 5:  1.99051 0.5\n",
      "Epoch 14, CIFAR-10 Batch 1:  2.02476 0.425\n",
      "Epoch 14, CIFAR-10 Batch 2:  1.97091 0.45\n",
      "Epoch 14, CIFAR-10 Batch 3:  1.97586 0.525\n",
      "Epoch 14, CIFAR-10 Batch 4:  2.02446 0.45\n",
      "Epoch 14, CIFAR-10 Batch 5:  1.97927 0.475\n",
      "Epoch 15, CIFAR-10 Batch 1:  2.01283 0.5\n",
      "Epoch 15, CIFAR-10 Batch 2:  1.96178 0.475\n",
      "Epoch 15, CIFAR-10 Batch 3:  1.95935 0.525\n",
      "Epoch 15, CIFAR-10 Batch 4:  2.02203 0.45\n",
      "Epoch 15, CIFAR-10 Batch 5:  1.98773 0.45\n",
      "Epoch 16, CIFAR-10 Batch 1:  2.04596 0.425\n",
      "Epoch 16, CIFAR-10 Batch 2:  1.94509 0.5\n",
      "Epoch 16, CIFAR-10 Batch 3:  1.9184 0.6\n",
      "Epoch 16, CIFAR-10 Batch 4:  2.02027 0.425\n",
      "Epoch 16, CIFAR-10 Batch 5:  1.94696 0.525\n",
      "Epoch 17, CIFAR-10 Batch 1:  2.00746 0.475\n",
      "Epoch 17, CIFAR-10 Batch 2:  1.94437 0.525\n",
      "Epoch 17, CIFAR-10 Batch 3:  1.90371 0.6\n",
      "Epoch 17, CIFAR-10 Batch 4:  2.01939 0.45\n",
      "Epoch 17, CIFAR-10 Batch 5:  1.94674 0.55\n",
      "Epoch 18, CIFAR-10 Batch 1:  2.02676 0.45\n",
      "Epoch 18, CIFAR-10 Batch 2:  1.94586 0.55\n",
      "Epoch 18, CIFAR-10 Batch 3:  1.87693 0.625\n",
      "Epoch 18, CIFAR-10 Batch 4:  2.02227 0.45\n",
      "Epoch 18, CIFAR-10 Batch 5:  1.95657 0.5\n",
      "Epoch 19, CIFAR-10 Batch 1:  2.01132 0.475\n",
      "Epoch 19, CIFAR-10 Batch 2:  1.95481 0.5\n",
      "Epoch 19, CIFAR-10 Batch 3:  1.87263 0.625\n",
      "Epoch 19, CIFAR-10 Batch 4:  2.016 0.45\n",
      "Epoch 19, CIFAR-10 Batch 5:  1.95733 0.5\n",
      "Epoch 20, CIFAR-10 Batch 1:  2.01816 0.45\n",
      "Epoch 20, CIFAR-10 Batch 2:  1.96474 0.5\n",
      "Epoch 20, CIFAR-10 Batch 3:  1.87774 0.6\n",
      "Epoch 20, CIFAR-10 Batch 4:  2.0201 0.45\n",
      "Epoch 20, CIFAR-10 Batch 5:  1.9341 0.55\n",
      "Epoch 21, CIFAR-10 Batch 1:  1.98471 0.5\n",
      "Epoch 21, CIFAR-10 Batch 2:  1.96164 0.525\n",
      "Epoch 21, CIFAR-10 Batch 3:  1.86714 0.625\n",
      "Epoch 21, CIFAR-10 Batch 4:  2.01847 0.45\n",
      "Epoch 21, CIFAR-10 Batch 5:  1.93822 0.55\n",
      "Epoch 22, CIFAR-10 Batch 1:  2.04141 0.425\n",
      "Epoch 22, CIFAR-10 Batch 2:  1.95402 0.5\n",
      "Epoch 22, CIFAR-10 Batch 3:  1.86118 0.575\n",
      "Epoch 22, CIFAR-10 Batch 4:  2.00865 0.475\n",
      "Epoch 22, CIFAR-10 Batch 5:  1.93173 0.55\n",
      "Epoch 23, CIFAR-10 Batch 1:  1.99682 0.5\n",
      "Epoch 23, CIFAR-10 Batch 2:  1.96105 0.5\n",
      "Epoch 23, CIFAR-10 Batch 3:  1.85531 0.625\n",
      "Epoch 23, CIFAR-10 Batch 4:  1.99846 0.475\n",
      "Epoch 23, CIFAR-10 Batch 5:  1.94034 0.55\n",
      "Epoch 24, CIFAR-10 Batch 1:  1.98857 0.525\n",
      "Epoch 24, CIFAR-10 Batch 2:  1.97964 0.525\n",
      "Epoch 24, CIFAR-10 Batch 3:  1.83782 0.65\n",
      "Epoch 24, CIFAR-10 Batch 4:  1.97435 0.5\n",
      "Epoch 24, CIFAR-10 Batch 5:  1.95133 0.55\n",
      "Epoch 25, CIFAR-10 Batch 1:  2.00466 0.475\n",
      "Epoch 25, CIFAR-10 Batch 2:  1.96996 0.5\n",
      "Epoch 25, CIFAR-10 Batch 3:  1.82894 0.625\n",
      "Epoch 25, CIFAR-10 Batch 4:  2.0 0.45\n",
      "Epoch 25, CIFAR-10 Batch 5:  1.93335 0.575\n",
      "Epoch 26, CIFAR-10 Batch 1:  1.97304 0.525\n",
      "Epoch 26, CIFAR-10 Batch 2:  1.97857 0.5\n",
      "Epoch 26, CIFAR-10 Batch 3:  1.82084 0.675\n",
      "Epoch 26, CIFAR-10 Batch 4:  1.96658 0.5\n",
      "Epoch 26, CIFAR-10 Batch 5:  1.9131 0.575\n",
      "Epoch 27, CIFAR-10 Batch 1:  1.9655 0.525\n",
      "Epoch 27, CIFAR-10 Batch 2:  1.96455 0.5\n",
      "Epoch 27, CIFAR-10 Batch 3:  1.79423 0.7\n",
      "Epoch 27, CIFAR-10 Batch 4:  1.97248 0.475\n",
      "Epoch 27, CIFAR-10 Batch 5:  1.91035 0.575\n",
      "Epoch 28, CIFAR-10 Batch 1:  1.9544 0.525\n",
      "Epoch 28, CIFAR-10 Batch 2:  1.97427 0.475\n",
      "Epoch 28, CIFAR-10 Batch 3:  1.77623 0.7\n",
      "Epoch 28, CIFAR-10 Batch 4:  1.95395 0.525\n",
      "Epoch 28, CIFAR-10 Batch 5:  1.9106 0.575\n",
      "Epoch 29, CIFAR-10 Batch 1:  1.97523 0.525\n",
      "Epoch 29, CIFAR-10 Batch 2:  1.97665 0.475\n",
      "Epoch 29, CIFAR-10 Batch 3:  1.79494 0.675\n",
      "Epoch 29, CIFAR-10 Batch 4:  1.94701 0.55\n",
      "Epoch 29, CIFAR-10 Batch 5:  1.93822 0.55\n",
      "Epoch 30, CIFAR-10 Batch 1:  1.9594 0.525\n",
      "Epoch 30, CIFAR-10 Batch 2:  1.97312 0.5\n",
      "Epoch 30, CIFAR-10 Batch 3:  1.77534 0.7\n",
      "Epoch 30, CIFAR-10 Batch 4:  1.94513 0.525\n",
      "Epoch 30, CIFAR-10 Batch 5:  1.91508 0.575\n",
      "Epoch 31, CIFAR-10 Batch 1:  1.94809 0.525\n",
      "Epoch 31, CIFAR-10 Batch 2:  1.96284 0.5\n",
      "Epoch 31, CIFAR-10 Batch 3:  1.83042 0.625\n",
      "Epoch 31, CIFAR-10 Batch 4:  1.96062 0.525\n",
      "Epoch 31, CIFAR-10 Batch 5:  1.9192 0.55\n",
      "Epoch 32, CIFAR-10 Batch 1:  1.95046 0.525\n",
      "Epoch 32, CIFAR-10 Batch 2:  1.96169 0.5\n",
      "Epoch 32, CIFAR-10 Batch 3:  1.77774 0.725\n",
      "Epoch 32, CIFAR-10 Batch 4:  1.93647 0.55\n",
      "Epoch 32, CIFAR-10 Batch 5:  1.91781 0.575\n",
      "Epoch 33, CIFAR-10 Batch 1:  1.95964 0.525\n",
      "Epoch 33, CIFAR-10 Batch 2:  1.9559 0.5\n",
      "Epoch 33, CIFAR-10 Batch 3:  1.797 0.7\n",
      "Epoch 33, CIFAR-10 Batch 4:  1.93675 0.525\n",
      "Epoch 33, CIFAR-10 Batch 5:  1.90768 0.55\n",
      "Epoch 34, CIFAR-10 Batch 1:  1.95233 0.525\n",
      "Epoch 34, CIFAR-10 Batch 2:  1.93567 0.525\n",
      "Epoch 34, CIFAR-10 Batch 3:  1.77401 0.725\n",
      "Epoch 34, CIFAR-10 Batch 4:  1.93097 0.55\n",
      "Epoch 34, CIFAR-10 Batch 5:  1.89409 0.625\n",
      "Epoch 35, CIFAR-10 Batch 1:  1.92098 0.55\n",
      "Epoch 35, CIFAR-10 Batch 2:  1.96562 0.5\n",
      "Epoch 35, CIFAR-10 Batch 3:  1.72462 0.75\n",
      "Epoch 35, CIFAR-10 Batch 4:  1.92649 0.55\n",
      "Epoch 35, CIFAR-10 Batch 5:  1.88551 0.6\n",
      "Epoch 36, CIFAR-10 Batch 1:  1.94001 0.525\n",
      "Epoch 36, CIFAR-10 Batch 2:  1.98172 0.475\n",
      "Epoch 36, CIFAR-10 Batch 3:  1.76985 0.725\n",
      "Epoch 36, CIFAR-10 Batch 4:  1.93592 0.525\n",
      "Epoch 36, CIFAR-10 Batch 5:  1.90501 0.575\n",
      "Epoch 37, CIFAR-10 Batch 1:  1.92938 0.525\n",
      "Epoch 37, CIFAR-10 Batch 2:  1.98008 0.475\n",
      "Epoch 37, CIFAR-10 Batch 3:  1.76667 0.7\n",
      "Epoch 37, CIFAR-10 Batch 4:  1.92899 0.55\n",
      "Epoch 37, CIFAR-10 Batch 5:  1.88791 0.575\n",
      "Epoch 38, CIFAR-10 Batch 1:  1.91971 0.55\n",
      "Epoch 38, CIFAR-10 Batch 2:  1.97805 0.475\n",
      "Epoch 38, CIFAR-10 Batch 3:  1.71469 0.825\n",
      "Epoch 38, CIFAR-10 Batch 4:  1.92764 0.55\n",
      "Epoch 38, CIFAR-10 Batch 5:  1.89593 0.575\n",
      "Epoch 39, CIFAR-10 Batch 1:  1.89913 0.575\n",
      "Epoch 39, CIFAR-10 Batch 2:  1.9853 0.475\n",
      "Epoch 39, CIFAR-10 Batch 3:  1.73254 0.75\n",
      "Epoch 39, CIFAR-10 Batch 4:  1.93498 0.525\n",
      "Epoch 39, CIFAR-10 Batch 5:  1.87445 0.6\n",
      "Epoch 40, CIFAR-10 Batch 1:  1.92475 0.55\n",
      "Epoch 40, CIFAR-10 Batch 2:  1.98231 0.475\n",
      "Epoch 40, CIFAR-10 Batch 3:  1.71805 0.8\n",
      "Epoch 40, CIFAR-10 Batch 4:  1.93578 0.525\n",
      "Epoch 40, CIFAR-10 Batch 5:  1.89507 0.575\n",
      "Epoch 41, CIFAR-10 Batch 1:  1.9168 0.55\n",
      "Epoch 41, CIFAR-10 Batch 2:  1.96079 0.5\n",
      "Epoch 41, CIFAR-10 Batch 3:  1.72281 0.775\n",
      "Epoch 41, CIFAR-10 Batch 4:  1.93291 0.55\n",
      "Epoch 41, CIFAR-10 Batch 5:  1.91356 0.575\n",
      "Epoch 42, CIFAR-10 Batch 1:  1.91452 0.55\n",
      "Epoch 42, CIFAR-10 Batch 2:  1.96193 0.5\n",
      "Epoch 42, CIFAR-10 Batch 3:  1.75711 0.7\n",
      "Epoch 42, CIFAR-10 Batch 4:  1.9367 0.525\n",
      "Epoch 42, CIFAR-10 Batch 5:  1.88661 0.6\n",
      "Epoch 43, CIFAR-10 Batch 1:  1.91871 0.55\n",
      "Epoch 43, CIFAR-10 Batch 2:  1.9819 0.475\n",
      "Epoch 43, CIFAR-10 Batch 3:  1.71029 0.775\n",
      "Epoch 43, CIFAR-10 Batch 4:  1.96082 0.5\n",
      "Epoch 43, CIFAR-10 Batch 5:  1.90157 0.575\n",
      "Epoch 44, CIFAR-10 Batch 1:  1.91277 0.55\n",
      "Epoch 44, CIFAR-10 Batch 2:  1.98176 0.475\n",
      "Epoch 44, CIFAR-10 Batch 3:  1.70256 0.775\n",
      "Epoch 44, CIFAR-10 Batch 4:  1.92774 0.525\n",
      "Epoch 44, CIFAR-10 Batch 5:  1.88682 0.575\n",
      "Epoch 45, CIFAR-10 Batch 1:  1.89842 0.575\n",
      "Epoch 45, CIFAR-10 Batch 2:  1.98518 0.475\n",
      "Epoch 45, CIFAR-10 Batch 3:  1.71802 0.75\n",
      "Epoch 45, CIFAR-10 Batch 4:  1.93105 0.525\n",
      "Epoch 45, CIFAR-10 Batch 5:  1.88178 0.6\n",
      "Epoch 46, CIFAR-10 Batch 1:  1.89178 0.575\n",
      "Epoch 46, CIFAR-10 Batch 2:  1.99247 0.475\n",
      "Epoch 46, CIFAR-10 Batch 3:  1.73619 0.725\n",
      "Epoch 46, CIFAR-10 Batch 4:  1.93463 0.525\n",
      "Epoch 46, CIFAR-10 Batch 5:  1.86397 0.6\n",
      "Epoch 47, CIFAR-10 Batch 1:  1.89257 0.575\n",
      "Epoch 47, CIFAR-10 Batch 2:  1.98557 0.475\n",
      "Epoch 47, CIFAR-10 Batch 3:  1.70946 0.8\n",
      "Epoch 47, CIFAR-10 Batch 4:  1.93942 0.525\n",
      "Epoch 47, CIFAR-10 Batch 5:  1.91449 0.525\n",
      "Epoch 48, CIFAR-10 Batch 1:  1.94734 0.5\n",
      "Epoch 48, CIFAR-10 Batch 2:  1.94591 0.525\n",
      "Epoch 48, CIFAR-10 Batch 3:  1.69944 0.8\n",
      "Epoch 48, CIFAR-10 Batch 4:  1.95958 0.5\n",
      "Epoch 48, CIFAR-10 Batch 5:  1.86149 0.625\n",
      "Epoch 49, CIFAR-10 Batch 1:  1.916 0.55\n",
      "Epoch 49, CIFAR-10 Batch 2:  1.98312 0.475\n",
      "Epoch 49, CIFAR-10 Batch 3:  1.69593 0.8\n",
      "Epoch 49, CIFAR-10 Batch 4:  1.95473 0.5\n",
      "Epoch 49, CIFAR-10 Batch 5:  1.86095 0.625\n",
      "Epoch 50, CIFAR-10 Batch 1:  1.90552 0.575\n",
      "Epoch 50, CIFAR-10 Batch 2:  1.98409 0.475\n",
      "Epoch 50, CIFAR-10 Batch 3:  1.70342 0.75\n",
      "Epoch 50, CIFAR-10 Batch 4:  1.98152 0.475\n",
      "Epoch 50, CIFAR-10 Batch 5:  1.89227 0.575\n",
      "Epoch 51, CIFAR-10 Batch 1:  1.9044 0.55\n",
      "Epoch 51, CIFAR-10 Batch 2:  1.98661 0.475\n",
      "Epoch 51, CIFAR-10 Batch 3:  1.68218 0.8\n",
      "Epoch 51, CIFAR-10 Batch 4:  1.96763 0.475\n",
      "Epoch 51, CIFAR-10 Batch 5:  1.88243 0.575\n",
      "Epoch 52, CIFAR-10 Batch 1:  1.90761 0.55\n",
      "Epoch 52, CIFAR-10 Batch 2:  1.97017 0.475\n",
      "Epoch 52, CIFAR-10 Batch 3:  1.70525 0.775\n",
      "Epoch 52, CIFAR-10 Batch 4:  1.98057 0.475\n",
      "Epoch 52, CIFAR-10 Batch 5:  1.9047 0.55\n",
      "Epoch 53, CIFAR-10 Batch 1:  1.92782 0.525\n",
      "Epoch 53, CIFAR-10 Batch 2:  1.97779 0.5\n",
      "Epoch 53, CIFAR-10 Batch 3:  1.69371 0.775\n",
      "Epoch 53, CIFAR-10 Batch 4:  1.96673 0.5\n",
      "Epoch 53, CIFAR-10 Batch 5:  1.87429 0.6\n",
      "Epoch 54, CIFAR-10 Batch 1:  1.91397 0.55\n",
      "Epoch 54, CIFAR-10 Batch 2:  1.98607 0.475\n",
      "Epoch 54, CIFAR-10 Batch 3:  1.68929 0.8\n",
      "Epoch 54, CIFAR-10 Batch 4:  1.94659 0.525\n",
      "Epoch 54, CIFAR-10 Batch 5:  1.87356 0.625\n",
      "Epoch 55, CIFAR-10 Batch 1:  1.91161 0.55\n",
      "Epoch 55, CIFAR-10 Batch 2:  1.97805 0.5\n",
      "Epoch 55, CIFAR-10 Batch 3:  1.67516 0.8\n",
      "Epoch 55, CIFAR-10 Batch 4:  1.94355 0.525\n",
      "Epoch 55, CIFAR-10 Batch 5:  1.88232 0.575\n",
      "Epoch 56, CIFAR-10 Batch 1:  1.88918 0.575\n",
      "Epoch 56, CIFAR-10 Batch 2:  1.97759 0.475\n",
      "Epoch 56, CIFAR-10 Batch 3:  1.65218 0.825\n",
      "Epoch 56, CIFAR-10 Batch 4:  1.94961 0.525\n",
      "Epoch 56, CIFAR-10 Batch 5:  1.9372 0.525\n",
      "Epoch 57, CIFAR-10 Batch 1:  1.8875 0.575\n",
      "Epoch 57, CIFAR-10 Batch 2:  1.9845 0.475\n",
      "Epoch 57, CIFAR-10 Batch 3:  1.66041 0.825\n",
      "Epoch 57, CIFAR-10 Batch 4:  1.93703 0.525\n",
      "Epoch 57, CIFAR-10 Batch 5:  1.89202 0.575\n",
      "Epoch 58, CIFAR-10 Batch 1:  1.89095 0.575\n",
      "Epoch 58, CIFAR-10 Batch 2:  1.95628 0.5\n",
      "Epoch 58, CIFAR-10 Batch 3:  1.67938 0.8\n",
      "Epoch 58, CIFAR-10 Batch 4:  1.93949 0.525\n",
      "Epoch 58, CIFAR-10 Batch 5:  1.86898 0.6\n",
      "Epoch 59, CIFAR-10 Batch 1:  1.87934 0.575\n",
      "Epoch 59, CIFAR-10 Batch 2:  1.95844 0.5\n",
      "Epoch 59, CIFAR-10 Batch 3:  1.72971 0.725\n",
      "Epoch 59, CIFAR-10 Batch 4:  1.96778 0.5\n",
      "Epoch 59, CIFAR-10 Batch 5:  1.91126 0.55\n",
      "Epoch 60, CIFAR-10 Batch 1:  1.87289 0.6\n",
      "Epoch 60, CIFAR-10 Batch 2:  1.95682 0.5\n",
      "Epoch 60, CIFAR-10 Batch 3:  1.69416 0.775\n",
      "Epoch 60, CIFAR-10 Batch 4:  1.94639 0.5\n",
      "Epoch 60, CIFAR-10 Batch 5:  1.90039 0.575\n",
      "Epoch 61, CIFAR-10 Batch 1:  1.88492 0.575\n",
      "Epoch 61, CIFAR-10 Batch 2:  1.95968 0.5\n",
      "Epoch 61, CIFAR-10 Batch 3:  1.67324 0.8\n",
      "Epoch 61, CIFAR-10 Batch 4:  1.93024 0.55\n",
      "Epoch 61, CIFAR-10 Batch 5:  1.89928 0.575\n",
      "Epoch 62, CIFAR-10 Batch 1:  1.89131 0.575\n",
      "Epoch 62, CIFAR-10 Batch 2:  1.94101 0.525\n",
      "Epoch 62, CIFAR-10 Batch 3:  1.64696 0.825\n",
      "Epoch 62, CIFAR-10 Batch 4:  1.95344 0.5\n",
      "Epoch 62, CIFAR-10 Batch 5:  1.89571 0.55\n",
      "Epoch 63, CIFAR-10 Batch 1:  1.88747 0.575\n",
      "Epoch 63, CIFAR-10 Batch 2:  1.95283 0.5\n",
      "Epoch 63, CIFAR-10 Batch 3:  1.65169 0.825\n",
      "Epoch 63, CIFAR-10 Batch 4:  1.94864 0.525\n",
      "Epoch 63, CIFAR-10 Batch 5:  1.92361 0.575\n",
      "Epoch 64, CIFAR-10 Batch 1:  1.89002 0.575\n",
      "Epoch 64, CIFAR-10 Batch 2:  1.95754 0.525\n",
      "Epoch 64, CIFAR-10 Batch 3:  1.65028 0.825\n",
      "Epoch 64, CIFAR-10 Batch 4:  1.92386 0.55\n",
      "Epoch 64, CIFAR-10 Batch 5:  1.91123 0.575\n",
      "Epoch 65, CIFAR-10 Batch 1:  1.88889 0.575\n",
      "Epoch 65, CIFAR-10 Batch 2:  1.9552 0.5\n",
      "Epoch 65, CIFAR-10 Batch 3:  1.67697 0.8\n",
      "Epoch 65, CIFAR-10 Batch 4:  1.9738 0.475\n",
      "Epoch 65, CIFAR-10 Batch 5:  1.90864 0.55\n",
      "Epoch 66, CIFAR-10 Batch 1:  1.89631 0.575\n",
      "Epoch 66, CIFAR-10 Batch 2:  1.93849 0.55\n",
      "Epoch 66, CIFAR-10 Batch 3:  1.64573 0.825\n",
      "Epoch 66, CIFAR-10 Batch 4:  1.9345 0.525\n",
      "Epoch 66, CIFAR-10 Batch 5:  1.90532 0.55\n",
      "Epoch 67, CIFAR-10 Batch 1:  1.8858 0.575\n",
      "Epoch 67, CIFAR-10 Batch 2:  1.97503 0.475\n",
      "Epoch 67, CIFAR-10 Batch 3:  1.64762 0.825\n",
      "Epoch 67, CIFAR-10 Batch 4:  1.92684 0.55\n",
      "Epoch 67, CIFAR-10 Batch 5:  1.89624 0.575\n",
      "Epoch 68, CIFAR-10 Batch 1:  1.89132 0.575\n",
      "Epoch 68, CIFAR-10 Batch 2:  1.9463 0.525\n",
      "Epoch 68, CIFAR-10 Batch 3:  1.72344 0.725\n",
      "Epoch 68, CIFAR-10 Batch 4:  1.92575 0.55\n",
      "Epoch 68, CIFAR-10 Batch 5:  1.91734 0.55\n",
      "Epoch 69, CIFAR-10 Batch 1:  1.88459 0.575\n",
      "Epoch 69, CIFAR-10 Batch 2:  1.94006 0.525\n",
      "Epoch 69, CIFAR-10 Batch 3:  1.65437 0.825\n",
      "Epoch 69, CIFAR-10 Batch 4:  1.95453 0.5\n",
      "Epoch 69, CIFAR-10 Batch 5:  1.90218 0.55\n",
      "Epoch 70, CIFAR-10 Batch 1:  1.90037 0.55\n",
      "Epoch 70, CIFAR-10 Batch 2:  1.92739 0.55\n",
      "Epoch 70, CIFAR-10 Batch 3:  1.64784 0.825\n",
      "Epoch 70, CIFAR-10 Batch 4:  1.95114 0.5\n",
      "Epoch 70, CIFAR-10 Batch 5:  1.91763 0.55\n"
     ]
    }
   ],
   "source": [
    "\"\"\"\n",
    "DON'T MODIFY ANYTHING IN THIS CELL\n",
    "\"\"\"\n",
    "save_model_path = './image_classification'\n",
    "\n",
    "print('Training...')\n",
    "with tf.Session() as sess:\n",
    "    # Initializing the variables\n",
    "    sess.run(tf.global_variables_initializer())\n",
    "    \n",
    "    # Training cycle\n",
    "    for epoch in range(epochs):\n",
    "        # Loop over all batches\n",
    "        n_batches = 5\n",
    "        for batch_i in range(1, n_batches + 1):\n",
    "            for batch_features, batch_labels in helper.load_preprocess_training_batch(batch_i, batch_size):\n",
    "                train_neural_network(sess, optimizer, keep_probability, batch_features, batch_labels)\n",
    "            print('Epoch {:>2}, CIFAR-10 Batch {}:  '.format(epoch + 1, batch_i), end='')\n",
    "            print_stats(sess, batch_features, batch_labels, cost, accuracy)\n",
    "            \n",
    "    # Save Model\n",
    "    saver = tf.train.Saver()\n",
    "    save_path = saver.save(sess, save_model_path)"
   ]
  },
  {
   "cell_type": "markdown",
   "metadata": {
    "deletable": true,
    "editable": true
   },
   "source": [
    "# Checkpoint\n",
    "The model has been saved to disk.\n",
    "## Test Model\n",
    "Test your model against the test dataset.  This will be your final accuracy. You should have an accuracy greater than 50%. If you don't, keep tweaking the model architecture and parameters."
   ]
  },
  {
   "cell_type": "code",
   "execution_count": 38,
   "metadata": {
    "collapsed": false,
    "deletable": true,
    "editable": true
   },
   "outputs": [
    {
     "name": "stdout",
     "output_type": "stream",
     "text": [
      "Testing Accuracy: 0.47451171875\n",
      "\n"
     ]
    },
    {
     "data": {
      "image/png": "[encoded data removed]",
      "text/plain": [
       "<matplotlib.figure.Figure at 0x7f68c0a7b908>"
      ]
     },
     "metadata": {
      "image/png": {
       "height": 319,
       "width": 355
      }
     },
     "output_type": "display_data"
    }
   ],
   "source": [
    "\"\"\"\n",
    "DON'T MODIFY ANYTHING IN THIS CELL\n",
    "\"\"\"\n",
    "%matplotlib inline\n",
    "%config InlineBackend.figure_format = 'retina'\n",
    "\n",
    "import tensorflow as tf\n",
    "import pickle\n",
    "import helper\n",
    "import random\n",
    "\n",
    "# Set batch size if not already set\n",
    "try:\n",
    "    if batch_size:\n",
    "        pass\n",
    "except NameError:\n",
    "    batch_size = 64\n",
    "\n",
    "save_model_path = './image_classification'\n",
    "n_samples = 4\n",
    "top_n_predictions = 3\n",
    "\n",
    "def test_model():\n",
    "    \"\"\"\n",
    "    Test the saved model against the test dataset\n",
    "    \"\"\"\n",
    "\n",
    "    test_features, test_labels = pickle.load(open('preprocess_training.p', mode='rb'))\n",
    "    loaded_graph = tf.Graph()\n",
    "\n",
    "    with tf.Session(graph=loaded_graph) as sess:\n",
    "        # Load model\n",
    "        loader = tf.train.import_meta_graph(save_model_path + '.meta')\n",
    "        loader.restore(sess, save_model_path)\n",
    "\n",
    "        # Get Tensors from loaded model\n",
    "        loaded_x = loaded_graph.get_tensor_by_name('x:0')\n",
    "        loaded_y = loaded_graph.get_tensor_by_name('y:0')\n",
    "        loaded_keep_prob = loaded_graph.get_tensor_by_name('keep_prob:0')\n",
    "        loaded_logits = loaded_graph.get_tensor_by_name('logits:0')\n",
    "        loaded_acc = loaded_graph.get_tensor_by_name('accuracy:0')\n",
    "        \n",
    "        # Get accuracy in batches for memory limitations\n",
    "        test_batch_acc_total = 0\n",
    "        test_batch_count = 0\n",
    "        \n",
    "        for train_feature_batch, train_label_batch in helper.batch_features_labels(test_features, test_labels, batch_size):\n",
    "            test_batch_acc_total += sess.run(\n",
    "                loaded_acc,\n",
    "                feed_dict={loaded_x: train_feature_batch, loaded_y: train_label_batch, loaded_keep_prob: 1.0})\n",
    "            test_batch_count += 1\n",
    "\n",
    "        print('Testing Accuracy: {}\\n'.format(test_batch_acc_total/test_batch_count))\n",
    "\n",
    "        # Print Random Samples\n",
    "        random_test_features, random_test_labels = tuple(zip(*random.sample(list(zip(test_features, test_labels)), n_samples)))\n",
    "        random_test_predictions = sess.run(\n",
    "            tf.nn.top_k(tf.nn.softmax(loaded_logits), top_n_predictions),\n",
    "            feed_dict={loaded_x: random_test_features, loaded_y: random_test_labels, loaded_keep_prob: 1.0})\n",
    "        helper.display_image_predictions(random_test_features, random_test_labels, random_test_predictions)\n",
    "\n",
    "\n",
    "test_model()"
   ]
  },
  {
   "cell_type": "markdown",
   "metadata": {
    "deletable": true,
    "editable": true
   },
   "source": [
    "## Why 50-70% Accuracy?\n",
    "You might be wondering why you can't get an accuracy any higher. First things first, 50% isn't bad for a simple CNN.  Pure guessing would get you 10% accuracy. However, you might notice people are getting scores [well above 70%](http://rodrigob.github.io/are_we_there_yet/build/classification_datasets_results.html#43494641522d3130).  That's because we haven't taught you all there is to know about neural networks. We still need to cover a few more techniques.\n",
    "## Submitting This Project\n",
    "When submitting this project, make sure to run all the cells before saving the notebook.  Save the notebook file as \"dlnd_image_classification.ipynb\" and save it as a HTML file under \"File\" -> \"Download as\".  Include the \"helper.py\" and \"problem_unittests.py\" files in your submission."
   ]
  },
  {
   "cell_type": "code",
   "execution_count": null,
   "metadata": {
    "collapsed": true,
    "deletable": true,
    "editable": true
   },
   "outputs": [],
   "source": []
  }
 ],
 "metadata": {
  "kernelspec": {
   "display_name": "Python 3",
   "language": "python",
   "name": "python3"
  },
  "language_info": {
   "codemirror_mode": {
    "name": "ipython",
    "version": 3
   },
   "file_extension": ".py",
   "mimetype": "text/x-python",
   "name": "python",
   "nbconvert_exporter": "python",
   "pygments_lexer": "ipython3",
   "version": "3.5.2"
  },
  "widgets": {
   "state": {},
   "version": "1.1.2"
  }
 },
 "nbformat": 4,
 "nbformat_minor": 0
}
